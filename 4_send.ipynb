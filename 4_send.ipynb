{
 "cells": [
  {
   "cell_type": "markdown",
   "metadata": {},
   "source": [
    "# Sending\n",
    "## Example 4. Pub/Sub with Direct exchange using routing key.\n",
    "- Sender generates logs with types 'error', 'info', 'warning'\n",
    "- First Receiver accepts all of log types.\n",
    "- Second Receiver accepts only 'error' log type."
   ]
  },
  {
   "cell_type": "markdown",
   "metadata": {},
   "source": [
    "### Routing\n",
    "\n",
    "In the previous tutorial we built a simple logging system. We were able to broadcast log messages to many receivers.\n",
    "\n",
    "In this tutorial we're going to add a feature to it - we're going to make it possible to subscribe only to a subset of the messages. For example, we will be able to direct only critical error messages to the log file (to save disk space), while still being able to print all of the log messages on the console.\n"
   ]
  },
  {
   "cell_type": "code",
   "execution_count": 4,
   "metadata": {
    "collapsed": true
   },
   "outputs": [],
   "source": [
    "import pika\n",
    "\n",
    "EXCHANGE_NAME = 'direct_logs'\n",
    "\n",
    "connection = pika.BlockingConnection(pika.ConnectionParameters(\n",
    "        host='192.168.99.100'))\n",
    "channel = connection.channel()"
   ]
  },
  {
   "cell_type": "markdown",
   "metadata": {},
   "source": [
    "### Direct exchange\n",
    "\n",
    "Our logging system from the previous tutorial broadcasts all messages to all consumers. We want to extend that to allow filtering messages based on their severity. For example we may want the script which is writing log messages to the disk to only receive critical errors, and not waste disk space on warning or info log messages.\n",
    "\n",
    "We were using a fanout exchange, which doesn't give us too much flexibility - it's only capable of mindless broadcasting.\n",
    "\n",
    "We will use a direct exchange instead. The routing algorithm behind a direct exchange is simple - a message goes to the queues whose binding key exactly matches the routing key of the message.\n",
    "\n",
    "To illustrate that, consider the following setup:\n",
    "![](https://www.rabbitmq.com/img/tutorials/direct-exchange.png)\n",
    "\n",
    "In this setup, we can see the direct exchange X with two queues bound to it. The first queue is bound with binding key orange, and the second has two bindings, one with binding key black and the other one with green.\n",
    "\n",
    "In such a setup a message published to the exchange with a routing key orange will be routed to queue Q1. Messages with a routing key of black or green will go to Q2. All other messages will be discarded.\n",
    "\n",
    "#### Multiple bindings\n",
    "![](https://www.rabbitmq.com/img/tutorials/direct-exchange-multiple.png)\n",
    "It is perfectly legal to bind multiple queues with the same binding key. In our example we could add a binding between X and Q1 with binding key black. In that case, the direct exchange will behave like fanout and will broadcast the message to all the matching queues. A message with routing key black will be delivered to both Q1 and Q2.\n",
    "\n"
   ]
  },
  {
   "cell_type": "markdown",
   "metadata": {},
   "source": [
    "## Emitting logs\n",
    "We'll use this model for our logging system. Instead of fanout we'll send messages to a direct exchange. We will supply the log severity as a routing key. That way the receiving script will be able to select the severity it wants to receive. Let's focus on emitting logs first.\n",
    "\n",
    "Like always we need to create an exchange first:"
   ]
  },
  {
   "cell_type": "code",
   "execution_count": 5,
   "metadata": {
    "collapsed": false
   },
   "outputs": [
    {
     "data": {
      "text/plain": [
       "<METHOD(['channel_number=1', 'frame_type=1', 'method=<Exchange.DeclareOk>'])>"
      ]
     },
     "execution_count": 5,
     "metadata": {},
     "output_type": "execute_result"
    }
   ],
   "source": [
    "channel.exchange_declare(exchange=EXCHANGE_NAME,\n",
    "                         type='direct')"
   ]
  },
  {
   "cell_type": "markdown",
   "metadata": {},
   "source": [
    "![](https://www.rabbitmq.com/img/tutorials/python-four.png)\n",
    "\n",
    "And we're ready to send a message:"
   ]
  },
  {
   "cell_type": "code",
   "execution_count": 6,
   "metadata": {
    "collapsed": true
   },
   "outputs": [],
   "source": [
    "# To simplify things we will assume that 'severity'\n",
    "# can be one of 'info', 'warning', 'error'.\n",
    "\n",
    "ERROR_MSG = 'error'\n",
    "INFO_MSG = 'info'\n",
    "WARNING_MSG = 'warning'\n",
    "\n",
    "\n",
    "def send_msg(severity, message):\n",
    "    channel.basic_publish(exchange=EXCHANGE_NAME,\n",
    "                          routing_key=severity,\n",
    "                          body=message)\n",
    "    print \" [x] Sent %r:%r\" % (severity, message)"
   ]
  },
  {
   "cell_type": "code",
   "execution_count": 7,
   "metadata": {
    "collapsed": false
   },
   "outputs": [
    {
     "name": "stdout",
     "output_type": "stream",
     "text": [
      " [x] Sent 'error':'Hello World!'\n"
     ]
    }
   ],
   "source": []
  },
  {
   "cell_type": "code",
   "execution_count": 11,
   "metadata": {
    "collapsed": false
   },
   "outputs": [
    {
     "name": "stdout",
     "output_type": "stream",
     "text": [
      " [x] Sent 'error':'Hello World!'\n",
      " [x] Sent 'info':'Hello World!'\n",
      " [x] Sent 'info':'Hello World!'\n",
      " [x] Sent 'warning':'Hello World!'\n",
      " [x] Sent 'error':'Hello World!'\n"
     ]
    }
   ],
   "source": [
    "send_msg(ERROR_MSG, 'Hello World!')\n",
    "send_msg(INFO_MSG, 'Hello World!')\n",
    "send_msg(INFO_MSG, 'Hello World!')\n",
    "send_msg(WARNING_MSG, 'Hello World!')\n",
    "send_msg(ERROR_MSG, 'Hello World!')"
   ]
  },
  {
   "cell_type": "code",
   "execution_count": 12,
   "metadata": {
    "collapsed": false
   },
   "outputs": [
    {
     "name": "stderr",
     "output_type": "stream",
     "text": [
      "WARNING:pika.connection:Disconnected from RabbitMQ at 192.168.99.100:5672 (200): Normal shutdown\n"
     ]
    }
   ],
   "source": [
    "connection.close()"
   ]
  },
  {
   "cell_type": "code",
   "execution_count": null,
   "metadata": {
    "collapsed": true
   },
   "outputs": [],
   "source": []
  }
 ],
 "metadata": {
  "kernelspec": {
   "display_name": "Python 2",
   "language": "python",
   "name": "python2"
  },
  "language_info": {
   "codemirror_mode": {
    "name": "ipython",
    "version": 2
   },
   "file_extension": ".py",
   "mimetype": "text/x-python",
   "name": "python",
   "nbconvert_exporter": "python",
   "pygments_lexer": "ipython2",
   "version": "2.7.10"
  }
 },
 "nbformat": 4,
 "nbformat_minor": 0
}
