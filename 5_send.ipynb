{
 "cells": [
  {
   "cell_type": "markdown",
   "metadata": {},
   "source": [
    "# Sending\n",
    "## Example 5. Pub/Sub with Topic exchange using pattern.\n",
    "In this example, we're going to send messages which all describe animals. The messages will be sent with a routing key that consists of three words (two dots). The first word in the routing key will describe a celerity, second a colour and third a species: \"<celerity>.<colour>.<species>\".\n"
   ]
  },
  {
   "cell_type": "markdown",
   "metadata": {},
   "source": [
    "## Topics\n",
    "\n",
    "In the previous tutorial we improved our logging system. Instead of using a fanout exchange only capable of dummy broadcasting, we used a direct one, and gained a possibility of selectively receiving the logs.\n",
    "\n",
    "Although using the direct exchange improved our system, it still has limitations - it can't do routing based on multiple criteria.\n",
    "\n",
    "In our logging system we might want to subscribe to not only logs based on severity, but also based on the source which emitted the log. You might know this concept from the syslog unix tool, which routes logs based on both severity (info/warn/crit...) and facility (auth/cron/kern...).\n",
    "\n",
    "That would give us a lot of flexibility - we may want to listen to just critical errors coming from 'cron' but also all logs from 'kern'.\n",
    "\n",
    "To implement that in our logging system we need to learn about a more complex **topic exchange**."
   ]
  },
  {
   "cell_type": "markdown",
   "metadata": {},
   "source": [
    "## Topic exchange\n",
    "**Messages sent to a topic exchange can't have an arbitrary routing_key - it must be a list of words, delimited by dots.** The words can be anything, but usually they specify some features connected to the message. A few valid routing key examples: \"stock.usd.nyse\", \"nyse.vmw\", \"quick.orange.rabbit\". **There can be as many words in the routing key as you like, up to the limit of 255 bytes!!!**\n",
    "\n",
    "The binding key must also be in the same form. The logic behind the topic exchange is similar to a direct one - a message sent with a particular routing key will be delivered to all the queues that are bound with a matching binding key. However there are two important special cases for binding keys:\n",
    "\n",
    "- \\* (star) can substitute for exactly one word.\n",
    "- \\# (hash) can substitute for zero or more words.\n",
    "\n",
    "It's easiest to explain this in an example:\n",
    "![](https://www.rabbitmq.com/img/tutorials/python-five.png)\n",
    "\n",
    "In this example, we're going to send messages which all describe animals. The messages will be sent with a routing key that consists of three words (two dots). The first word in the routing key will describe a celerity, second a colour and third a species: \"<celerity>.<colour>.<species>\".\n",
    "\n",
    "We created three bindings: Q1 is bound with binding key \"*.orange.*\" and Q2 with \"*.*.rabbit\" and \"lazy.#\".\n",
    "\n",
    "These bindings can be summarised as:\n",
    "\n",
    "- Q1 is interested in all the orange animals.\n",
    "- Q2 wants to hear everything about rabbits, and everything about lazy animals.\n",
    "\n",
    "A message with a routing key set to *\"quick.orange.rabbit\"* will be delivered to **both queues**. Message *\"lazy.orange.elephant\"* also will go to **both of them**. On the other hand *\"quick.orange.fox\"* will only go to the **first queue**, and \"lazy.brown.fox\" only to **the second**. \"lazy.pink.rabbit\" will be delivered to the **second queue only once**, even though it matches two bindings. **\"quick.brown.fox\"** doesn't match any binding so it will be discarded.\n",
    "\n",
    "What happens if we break our contract and send a message with one or four words, like \"orange\" or \"quick.orange.male.rabbit\"? **Well, these messages won't match any bindings and will be lost.**\n",
    "\n",
    "On the other hand \"lazy.orange.male.rabbit\", even though it has four words, will match the last binding and will be delivered to **the second queue**."
   ]
  },
  {
   "cell_type": "markdown",
   "metadata": {},
   "source": [
    "## Topic exchange or Direct exchange\n",
    "\n",
    "Topic exchange is powerful and can behave like other exchanges.\n",
    "\n",
    "When a queue is bound with \"#\" (hash) binding key - it will receive all the messages, regardless of the routing key - like in fanout exchange.\n",
    "\n",
    "When special characters \"*\" (star) and \"#\" (hash) aren't used in bindings, the topic exchange will behave just like a direct one."
   ]
  },
  {
   "cell_type": "code",
   "execution_count": 3,
   "metadata": {
    "collapsed": false
   },
   "outputs": [],
   "source": [
    "import pika\n",
    "import sys\n",
    "\n",
    "EXCHANGE_NAME = 'topic_logs'\n",
    "\n",
    "connection = pika.BlockingConnection(pika.ConnectionParameters(\n",
    "        host='192.168.99.100'))\n",
    "channel = connection.channel()\n",
    "\n",
    "channel.exchange_declare(exchange=EXCHANGE_NAME,\n",
    "                         type='topic')\n",
    "\n",
    "\n",
    "def send_msg(routing_key, message):\n",
    "    channel.basic_publish(exchange=EXCHANGE_NAME,\n",
    "                          routing_key=routing_key,\n",
    "                          body=message)\n",
    "    print \" [x] Sent %r:%r\" % (routing_key, message)"
   ]
  },
  {
   "cell_type": "code",
   "execution_count": 5,
   "metadata": {
    "collapsed": false
   },
   "outputs": [
    {
     "name": "stdout",
     "output_type": "stream",
     "text": [
      " [x] Sent 'kern.critical':'A critical kernel error'\n",
      " [x] Sent 'kern.none':'A none kernel error'\n",
      " [x] Sent 'test.none':'A none test error'\n"
     ]
    }
   ],
   "source": [
    "send_msg(\"kern.critical\",  \"A critical kernel error\")\n",
    "send_msg(\"kern.none\",  \"A none kernel error\")\n",
    "send_msg(\"test.none\",  \"A none test error\")"
   ]
  },
  {
   "cell_type": "code",
   "execution_count": null,
   "metadata": {
    "collapsed": true
   },
   "outputs": [],
   "source": []
  },
  {
   "cell_type": "code",
   "execution_count": 6,
   "metadata": {
    "collapsed": false
   },
   "outputs": [
    {
     "name": "stderr",
     "output_type": "stream",
     "text": [
      "WARNING:pika.connection:Disconnected from RabbitMQ at 192.168.99.100:5672 (200): Normal shutdown\n"
     ]
    }
   ],
   "source": [
    "connection.close()"
   ]
  },
  {
   "cell_type": "code",
   "execution_count": null,
   "metadata": {
    "collapsed": true
   },
   "outputs": [],
   "source": []
  }
 ],
 "metadata": {
  "kernelspec": {
   "display_name": "Python 2",
   "language": "python",
   "name": "python2"
  },
  "language_info": {
   "codemirror_mode": {
    "name": "ipython",
    "version": 2
   },
   "file_extension": ".py",
   "mimetype": "text/x-python",
   "name": "python",
   "nbconvert_exporter": "python",
   "pygments_lexer": "ipython2",
   "version": "2.7.10"
  }
 },
 "nbformat": 4,
 "nbformat_minor": 0
}
