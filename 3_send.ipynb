{
 "cells": [
  {
   "cell_type": "markdown",
   "metadata": {},
   "source": [
    "# Sending\n",
    "## Example 3. Pub/Sub with fanout exchange."
   ]
  },
  {
   "cell_type": "markdown",
   "metadata": {},
   "source": [
    "### Exchanges\n",
    "\n",
    "In previous parts of the tutorial we sent and received messages to and from a queue. Now it's time to introduce the full messaging model in Rabbit.\n",
    "\n",
    "Let's quickly go over what we covered in the previous tutorials:\n",
    "\n",
    "- A producer is a user application that sends messages.\n",
    "- A queue is a buffer that stores messages.\n",
    "- A consumer is a user application that receives messages.\n",
    "\n",
    "**The core idea in the messaging model in RabbitMQ is that the producer never sends any messages directly to a queue.** Actually, quite often the producer doesn't even know if a message will be delivered to any queue at all.\n",
    "\n",
    "**Instead, the producer can only send messages to an exchange.**\n",
    "\n",
    "##### About exchange\n",
    "An exchange is a very simple thing. On one side it receives messages from producers and the other side it pushes them to queues. The exchange must know exactly what to do with a message it receives. Should it be appended to a particular queue? Should it be appended to many queues? Or should it get discarded. The rules for that are defined by the exchange type.\n",
    "\n",
    "![](https://www.rabbitmq.com/img/tutorials/exchanges.png)\n",
    "\n",
    "\n"
   ]
  },
  {
   "cell_type": "code",
   "execution_count": 10,
   "metadata": {
    "collapsed": true
   },
   "outputs": [],
   "source": [
    "import pika\n",
    "\n",
    "connection = pika.BlockingConnection(pika.ConnectionParameters(\n",
    "               '192.168.99.100'))\n",
    "channel = connection.channel()"
   ]
  },
  {
   "cell_type": "markdown",
   "metadata": {},
   "source": [
    "There are a few exchange types available [APQM Model](https://www.rabbitmq.com/tutorials/amqp-concepts.html):\n",
    "* direct\n",
    "* topic\n",
    "* headers\n",
    "* fanout\n",
    "\n",
    "We'll focus on the last one -- the fanout. Let's create an exchange of that type, and call it logs:\n"
   ]
  },
  {
   "cell_type": "code",
   "execution_count": 11,
   "metadata": {
    "collapsed": false
   },
   "outputs": [
    {
     "data": {
      "text/plain": [
       "<METHOD(['channel_number=1', 'frame_type=1', 'method=<Exchange.DeclareOk>'])>"
      ]
     },
     "execution_count": 11,
     "metadata": {},
     "output_type": "execute_result"
    }
   ],
   "source": [
    "channel.exchange_declare(exchange='logs',\n",
    "                         type='fanout')"
   ]
  },
  {
   "cell_type": "markdown",
   "metadata": {},
   "source": [
    "Now, we can publish to our named exchange instead:\n",
    "\n"
   ]
  },
  {
   "cell_type": "code",
   "execution_count": 15,
   "metadata": {
    "collapsed": false
   },
   "outputs": [
    {
     "name": "stdout",
     "output_type": "stream",
     "text": [
      " [x] Sent 'info: Hello World!'\n"
     ]
    }
   ],
   "source": [
    "message = \"info: Hello World!\"\n",
    "channel.basic_publish(exchange='logs',\n",
    "                      routing_key='',\n",
    "                      body=message)\n",
    "print \" [x] Sent %r\" % (message,)\n"
   ]
  },
  {
   "cell_type": "code",
   "execution_count": 16,
   "metadata": {
    "collapsed": false
   },
   "outputs": [
    {
     "name": "stderr",
     "output_type": "stream",
     "text": [
      "WARNING:pika.connection:Disconnected from RabbitMQ at 192.168.99.100:5672 (200): Normal shutdown\n"
     ]
    }
   ],
   "source": [
    "connection.close()\n"
   ]
  },
  {
   "cell_type": "code",
   "execution_count": null,
   "metadata": {
    "collapsed": true
   },
   "outputs": [],
   "source": []
  },
  {
   "cell_type": "markdown",
   "metadata": {},
   "source": []
  },
  {
   "cell_type": "markdown",
   "metadata": {},
   "source": [
    "## Exchanges and Exchange Types\n",
    "\n",
    "Exchanges are AMQP entities where messages are sent. Exchanges take a message and route it into zero or more queues. The routing algorithm used depends on the exchange type and rules called bindings. AMQP 0-9-1 brokers provide four exchange types:\n",
    "\n",
    "\n",
    "| Name    | Default pre-declared names              |\n",
    "| ------  |:---------------------------------------:|\n",
    "| Direct  | (Empty string) and amq.direct           |\n",
    "| Fanout  | amq.fanout                              |\n",
    "| Topic   | amq.topic                               |\n",
    "| Headers | amq.match (and amq.headers in RabbitMQ) |\n",
    "\n",
    "\n",
    "Besides the exchange type, exchanges are declared with a number of attributes, the most important of which are:\n",
    "- Name\n",
    "- Durability (exchanges survive broker restart)\n",
    "- Auto-delete (exchange is deleted when all queues have finished using it)\n",
    "- Arguments (these are broker-dependent)\n",
    "\n",
    "Exchanges can be durable or transient. Durable exchanges survive broker restart whereas transient exchanges do not (they have to be redeclared when broker comes back online). Not all scenarios and use cases require exchanges to be durable.\n",
    "\n",
    "### Default Exchange\n",
    "The default exchange is a direct exchange with no name (empty string) pre-declared by the broker. It has one special property that makes it very useful for simple applications: every queue that is created is automatically bound to it with a routing key which is the same as the queue name.\n",
    "\n",
    "For example, when you declare a queue with the name of \"search-indexing-online\", the AMQP broker will bind it to the default exchange using \"search-indexing-online\" as the routing key. Therefore, a message published to the default exchange with the routing key \"search-indexing-online\" will be routed to the queue \"search-indexing-online\". In other words, the default exchange makes it seem like it is possible to deliver messages directly to queues, even though that is not technically what is happening.\n",
    "\n",
    "\n",
    "### Direct Exchange\n",
    "A direct exchange delivers messages to queues based on the message routing key. A direct exchange is ideal for the unicast routing of messages (although they can be used for multicast routing as well). Here is how it works:\n",
    "\n",
    "- A queue binds to the exchange with a routing key K\n",
    "- When a new message with routing key R arrives at the direct exchange, the exchange routes it to the queue if K = R\n",
    "\n",
    "Direct exchanges are often used to distribute tasks between multiple workers (instances of the same application) in a round robin manner. When doing so, it is important to understand that, in AMQP 0-9-1, messages are load balanced between consumers and not between queues.\n",
    "\n",
    "A direct exchange can be represented graphically as follows:\n",
    "![](http://lostechies.com/derekgreer/files/2012/03/DirectExchange_thumb1.png)\n",
    "\n",
    "### Fanout Exchange\n",
    "\n",
    "A fanout exchange routes messages to all of the queues that are bound to it and the routing key is ignored. If N queues are bound to a fanout exchange, when a new message is published to that exchange a copy of the message is delivered to all N queues. Fanout exchanges are ideal for the broadcast routing of messages.\n",
    "\n",
    "Because a fanout exchange delivers a copy of a message to every queue bound to it, its use cases are quite similar:\n",
    "\n",
    "- Massively multi-player online (MMO) games can use it for leaderboard updates or other global events\n",
    "- Sport news sites can use fanout exchanges for distributing score updates to mobile clients in near real-time\n",
    "- Distributed systems can broadcast various state and configuration updates\n",
    "- Group chats can distribute messages between participants using a fanout exchange (although AMQP does not have a built-in concept of presence, so XMPP may be a better choice)\n",
    "\n",
    "A fanout exchange can be represented graphically as follows:\n",
    "![](http://lostechies.com/derekgreer/files/2012/03/FanoutExchange_thumb2.png)\n",
    "\n",
    "\n",
    "### Topic Exchange\n",
    "Topic exchanges route messages to one or many queues based on matching between a message routing key and the pattern that was used to bind a queue to an exchange. The topic exchange type is often used to implement various publish/subscribe pattern variations. Topic exchanges are commonly used for the multicast routing of messages.\n",
    "\n",
    "Topic exchanges have a very broad set of use cases. Whenever a problem involves multiple consumers/applications that selectively choose which type of messages they want to receive, the use of topic exchanges should be considered.\n",
    "\n",
    "Example uses:\n",
    "\n",
    "- Distributing data relevant to specific geographic location, for example, points of sale\n",
    "- Background task processing done by multiple workers, each capable of handling specific set of tasks\n",
    "- Stocks price updates (and updates on other kinds of financial data)\n",
    "- News updates that involve categorization or tagging (for example, only for a particular sport or team)\n",
    "- Orchestration of services of different kinds in the cloud\n",
    "- Distributed architecture/OS-specific software builds or packaging where each builder can handle only one architecture or OS\n",
    "\n",
    "![](http://lostechies.com/derekgreer/files/2012/03/TopicExchange_thumb2.png)\n",
    "\n",
    "\n",
    "### Headers Exchange\n",
    "A headers exchange is designed for routing on multiple attributes that are more easily expressed as message headers than a routing key. Headers exchanges ignore the routing key attribute. Instead, the attributes used for routing are taken from the headers attribute. A message is considered matching if the value of the header equals the value specified upon binding.\n",
    "\n",
    "It is possible to bind a queue to a headers exchange using more than one header for matching. In this case, the broker needs one more piece of information from the application developer, namely, should it consider messages with any of the headers matching, or all of them? This is what the \"x-match\" binding argument is for. When the \"x-match\" argument is set to \"any\", just one matching header value is sufficient. Alternatively, setting \"x-match\" to \"all\" mandates that all the values must match.\n",
    "\n",
    "Headers exchanges can be looked upon as \"direct exchanges on steroids\". Because they route based on header values, they can be used as direct exchanges where the routing key does not have to be a string; it could be an integer or a hash (dictionary) for example.\n",
    "\n",
    "![](http://lostechies.com/derekgreer/files/2012/03/HeadersExchange_thumb2.png)"
   ]
  },
  {
   "cell_type": "code",
   "execution_count": null,
   "metadata": {
    "collapsed": true
   },
   "outputs": [],
   "source": []
  }
 ],
 "metadata": {
  "kernelspec": {
   "display_name": "Python 2",
   "language": "python",
   "name": "python2"
  },
  "language_info": {
   "codemirror_mode": {
    "name": "ipython",
    "version": 2
   },
   "file_extension": ".py",
   "mimetype": "text/x-python",
   "name": "python",
   "nbconvert_exporter": "python",
   "pygments_lexer": "ipython2",
   "version": "2.7.10"
  }
 },
 "nbformat": 4,
 "nbformat_minor": 0
}
